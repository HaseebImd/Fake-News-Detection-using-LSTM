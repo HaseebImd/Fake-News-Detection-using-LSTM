{
 "cells": [
  {
   "cell_type": "markdown",
   "id": "afc6e282",
   "metadata": {},
   "source": [
    "**Importing Required Libraries**"
   ]
  },
  {
   "cell_type": "code",
   "execution_count": 1,
   "id": "d84d5c34",
   "metadata": {},
   "outputs": [],
   "source": [
    "import os\n",
    "import numpy as np\n",
    "import pandas as pd\n",
    "from sklearn.model_selection import train_test_split\n",
    "from tensorflow.keras.preprocessing.text import Tokenizer\n",
    "from tensorflow.keras.preprocessing.sequence import pad_sequences\n",
    "from tensorflow.keras.models import Sequential\n",
    "from tensorflow.keras.layers import Embedding, LSTM, Dense\n",
    "from tensorflow.keras.callbacks import EarlyStopping\n",
    "import matplotlib.pyplot as plt\n",
    "import seaborn as sns\n",
    "from wordcloud import WordCloud\n",
    "import warnings\n",
    "warnings.filterwarnings(\"ignore\")\n",
    "plt.rcParams['font.family'] = 'DejaVu Sans'"
   ]
  },
  {
   "cell_type": "code",
   "execution_count": null,
   "id": "e7d53343",
   "metadata": {},
   "outputs": [],
   "source": []
  },
  {
   "cell_type": "code",
   "execution_count": 8,
   "id": "41f46fec",
   "metadata": {},
   "outputs": [
    {
     "ename": "ModuleNotFoundError",
     "evalue": "No module named 'hazm'",
     "output_type": "error",
     "traceback": [
      "\u001b[1;31m---------------------------------------------------------------------------\u001b[0m",
      "\u001b[1;31mModuleNotFoundError\u001b[0m                       Traceback (most recent call last)",
      "\u001b[1;32m<ipython-input-8-43fc52ec3f56>\u001b[0m in \u001b[0;36m<module>\u001b[1;34m\u001b[0m\n\u001b[0;32m      2\u001b[0m \u001b[1;32mfrom\u001b[0m \u001b[0msklearn\u001b[0m\u001b[1;33m.\u001b[0m\u001b[0mfeature_extraction\u001b[0m\u001b[1;33m.\u001b[0m\u001b[0mtext\u001b[0m \u001b[1;32mimport\u001b[0m \u001b[0mTfidfVectorizer\u001b[0m\u001b[1;33m\u001b[0m\u001b[1;33m\u001b[0m\u001b[0m\n\u001b[0;32m      3\u001b[0m \u001b[1;32mimport\u001b[0m \u001b[0mre\u001b[0m\u001b[1;33m\u001b[0m\u001b[1;33m\u001b[0m\u001b[0m\n\u001b[1;32m----> 4\u001b[1;33m \u001b[1;32mfrom\u001b[0m \u001b[0mhazm\u001b[0m \u001b[1;32mimport\u001b[0m \u001b[0mNormalizer\u001b[0m\u001b[1;33m,\u001b[0m \u001b[0mword_tokenize\u001b[0m\u001b[1;33m,\u001b[0m \u001b[0mstopwords_list\u001b[0m\u001b[1;33m\u001b[0m\u001b[1;33m\u001b[0m\u001b[0m\n\u001b[0m",
      "\u001b[1;31mModuleNotFoundError\u001b[0m: No module named 'hazm'"
     ]
    }
   ],
   "source": [
    "\n",
    "# Import libraries for key extraction\n",
    "from sklearn.feature_extraction.text import TfidfVectorizer\n",
    "import re\n",
    "from hazm import Normalizer, word_tokenize, stopwords_list"
   ]
  },
  {
   "cell_type": "markdown",
   "id": "e2732e1f",
   "metadata": {},
   "source": [
    "**Reading Data from Folder Fucntion**"
   ]
  },
  {
   "cell_type": "code",
   "execution_count": 2,
   "id": "b582ade8",
   "metadata": {},
   "outputs": [],
   "source": [
    "def read_data_from_folder(folder_path):\n",
    "    # Read the text files from the given folder path\n",
    "    data = []\n",
    "    for filename in os.listdir(folder_path):\n",
    "        file_path = os.path.join(folder_path, filename)\n",
    "        with open(file_path, \"r\", encoding=\"utf-8\") as file:\n",
    "            news = file.read()\n",
    "            data.append(news)\n",
    "    return data"
   ]
  },
  {
   "cell_type": "markdown",
   "id": "d7d05ab5",
   "metadata": {},
   "source": [
    "**Path of All Data Folders**"
   ]
  },
  {
   "cell_type": "code",
   "execution_count": 4,
   "id": "cd23c9b3",
   "metadata": {},
   "outputs": [],
   "source": [
    "# Set the path to the dataset folders\n",
    "corpus_paths = [\n",
    "    \"1.Corpus/Test/Fake\",\n",
    "    \"1.Corpus/Test/Real\",\n",
    "    \"1.Corpus/Train/Fake\",\n",
    "    \"1.Corpus/Train/Real\",\n",
    "    \"2.CorpusMT/Test/Fake\",\n",
    "    \"2.CorpusMT/Test/Real\",\n",
    "    \"2.CorpusMT/Train/Fake\",\n",
    "    \"2.CorpusMT/Train/Real\",\n",
    "    \"3.Corpus_Mixed/Test/Fake\",\n",
    "    \"3.Corpus_Mixed/Test/Real\",\n",
    "    \"3.Corpus_Mixed/Train/Fake\",\n",
    "    \"3.Corpus_Mixed/Train/Real\",\n",
    "    \"4.Corpus_Mixed_Downsize/Test/Fake\",\n",
    "    \"4.Corpus_Mixed_Downsize/Test/Real\",\n",
    "    \"4.Corpus_Mixed_Downsize/Train/Fake\",\n",
    "    \"4.Corpus_Mixed_Downsize/Train/Real\",\n",
    "    \"5.Cross_MT_Orignal/Test/Fake\",\n",
    "    \"5.Cross_MT_Orignal/Test/Real\",\n",
    "    \"5.Cross_MT_Orignal/Train/Fake\",\n",
    "    \"5.Cross_MT_Orignal/Train/Real\",\n",
    "    \"6.Cross_Orignal_MT/Test/Fake\",\n",
    "    \"6.Cross_Orignal_MT/Test/Real\",\n",
    "    \"6.Cross_Orignal_MT/Train/Fake\",\n",
    "    \"6.Cross_Orignal_MT/Train/Real\"\n",
    "]\n"
   ]
  },
  {
   "cell_type": "code",
   "execution_count": null,
   "id": "8d0041ac",
   "metadata": {},
   "outputs": [],
   "source": []
  }
 ],
 "metadata": {
  "kernelspec": {
   "display_name": "Python 3",
   "language": "python",
   "name": "python3"
  },
  "language_info": {
   "codemirror_mode": {
    "name": "ipython",
    "version": 3
   },
   "file_extension": ".py",
   "mimetype": "text/x-python",
   "name": "python",
   "nbconvert_exporter": "python",
   "pygments_lexer": "ipython3",
   "version": "3.8.8"
  }
 },
 "nbformat": 4,
 "nbformat_minor": 5
}
